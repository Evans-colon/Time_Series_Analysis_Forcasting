{
 "cells": [
  {
   "cell_type": "code",
   "execution_count": 1,
   "metadata": {},
   "outputs": [],
   "source": [
    "import numpy as np\n",
    "import pandas as pd\n",
    "import matplotlib.pyplot as plt\n",
    "import yfinance as yf\n",
    "import pandas_ta as pta\n",
    "import pandas as pd\n",
    "from statsmodels.graphics.tsaplots import plot_acf, plot_pacf\n",
    "from statsmodels.tsa.stattools import adfuller, kpss\n",
    "import datetime as dt\n",
    "import warnings\n",
    "warnings.filterwarnings(\"ignore\")"
   ]
  },
  {
   "cell_type": "code",
   "execution_count": 2,
   "metadata": {},
   "outputs": [
    {
     "name": "stdout",
     "output_type": "stream",
     "text": [
      "[*********************100%***********************]  1 of 1 completed\n"
     ]
    },
    {
     "data": {
      "text/html": [
       "<div>\n",
       "<style scoped>\n",
       "    .dataframe tbody tr th:only-of-type {\n",
       "        vertical-align: middle;\n",
       "    }\n",
       "\n",
       "    .dataframe tbody tr th {\n",
       "        vertical-align: top;\n",
       "    }\n",
       "\n",
       "    .dataframe thead th {\n",
       "        text-align: right;\n",
       "    }\n",
       "</style>\n",
       "<table border=\"1\" class=\"dataframe\">\n",
       "  <thead>\n",
       "    <tr style=\"text-align: right;\">\n",
       "      <th></th>\n",
       "      <th>Open</th>\n",
       "      <th>High</th>\n",
       "      <th>Low</th>\n",
       "      <th>Close</th>\n",
       "      <th>Adj Close</th>\n",
       "      <th>Volume</th>\n",
       "    </tr>\n",
       "    <tr>\n",
       "      <th>Date</th>\n",
       "      <th></th>\n",
       "      <th></th>\n",
       "      <th></th>\n",
       "      <th></th>\n",
       "      <th></th>\n",
       "      <th></th>\n",
       "    </tr>\n",
       "  </thead>\n",
       "  <tbody>\n",
       "    <tr>\n",
       "      <th>2012-03-26</th>\n",
       "      <td>322.822815</td>\n",
       "      <td>325.070068</td>\n",
       "      <td>320.090088</td>\n",
       "      <td>324.989990</td>\n",
       "      <td>324.989990</td>\n",
       "      <td>3634762</td>\n",
       "    </tr>\n",
       "    <tr>\n",
       "      <th>2012-03-27</th>\n",
       "      <td>323.838837</td>\n",
       "      <td>327.077087</td>\n",
       "      <td>322.722717</td>\n",
       "      <td>323.833832</td>\n",
       "      <td>323.833832</td>\n",
       "      <td>4010386</td>\n",
       "    </tr>\n",
       "    <tr>\n",
       "      <th>2012-03-28</th>\n",
       "      <td>326.341339</td>\n",
       "      <td>329.624634</td>\n",
       "      <td>325.865875</td>\n",
       "      <td>328.208221</td>\n",
       "      <td>328.208221</td>\n",
       "      <td>5072722</td>\n",
       "    </tr>\n",
       "    <tr>\n",
       "      <th>2012-03-29</th>\n",
       "      <td>327.047058</td>\n",
       "      <td>328.623627</td>\n",
       "      <td>322.472473</td>\n",
       "      <td>324.529541</td>\n",
       "      <td>324.529541</td>\n",
       "      <td>3844751</td>\n",
       "    </tr>\n",
       "    <tr>\n",
       "      <th>2012-03-30</th>\n",
       "      <td>326.201202</td>\n",
       "      <td>327.072083</td>\n",
       "      <td>320.820831</td>\n",
       "      <td>320.940948</td>\n",
       "      <td>320.940948</td>\n",
       "      <td>4616779</td>\n",
       "    </tr>\n",
       "  </tbody>\n",
       "</table>\n",
       "</div>"
      ],
      "text/plain": [
       "                  Open        High         Low       Close   Adj Close  \\\n",
       "Date                                                                     \n",
       "2012-03-26  322.822815  325.070068  320.090088  324.989990  324.989990   \n",
       "2012-03-27  323.838837  327.077087  322.722717  323.833832  323.833832   \n",
       "2012-03-28  326.341339  329.624634  325.865875  328.208221  328.208221   \n",
       "2012-03-29  327.047058  328.623627  322.472473  324.529541  324.529541   \n",
       "2012-03-30  326.201202  327.072083  320.820831  320.940948  320.940948   \n",
       "\n",
       "             Volume  \n",
       "Date                 \n",
       "2012-03-26  3634762  \n",
       "2012-03-27  4010386  \n",
       "2012-03-28  5072722  \n",
       "2012-03-29  3844751  \n",
       "2012-03-30  4616779  "
      ]
     },
     "execution_count": 2,
     "metadata": {},
     "output_type": "execute_result"
    }
   ],
   "source": [
    "# input\n",
    "symbol = 'GOOGL'\n",
    "start = dt.date.today() - dt.timedelta(days = 365*10)\n",
    "end = dt.date.today()\n",
    "df_google = yf.download(symbol,start,end)\n",
    "df_google.head()\n"
   ]
  },
  {
   "cell_type": "code",
   "execution_count": 3,
   "metadata": {},
   "outputs": [
    {
     "data": {
      "text/plain": [
       "Test Statistic               1.550594\n",
       "p-value                      0.997702\n",
       "   # of Lags Used           24.000000\n",
       "# of Observations Used    2491.000000\n",
       "Critical Value (1%)         -3.432978\n",
       "dtype: float64"
      ]
     },
     "execution_count": 3,
     "metadata": {},
     "output_type": "execute_result"
    }
   ],
   "source": [
    "def adf_test(x):\n",
    "    indices = ['Test Statistic', 'p-value',\n",
    "'   # of Lags Used', '# of Observations Used']\n",
    "    adf_test = adfuller(x, autolag='AIC')\n",
    "    results = pd.Series(adf_test[0:4], index=indices)\n",
    "    for key, value in adf_test[4].items():\n",
    "        results[f'Critical Value ({key})'] = value\n",
    "    \n",
    "        return results\n",
    "    \n",
    "adf_test(df_google['Adj Close'])"
   ]
  },
  {
   "cell_type": "markdown",
   "metadata": {},
   "source": [
    "The null hypothesis of the ADF test states that the time series is not stationary.\n",
    "With a p-value of 0.99 (or equivalently, the test statistic larger than the critical value for the selected confidence level), we have no reason to reject the null hypothesis, meaning that we can conclude that the series is not stationary"
   ]
  },
  {
   "cell_type": "code",
   "execution_count": 4,
   "metadata": {},
   "outputs": [
    {
     "data": {
      "text/plain": [
       "Test Statistic           6.525728\n",
       "p-value                  0.010000\n",
       "# of Lags               30.000000\n",
       "Critical Value (10%)     0.347000\n",
       "dtype: float64"
      ]
     },
     "execution_count": 4,
     "metadata": {},
     "output_type": "execute_result"
    }
   ],
   "source": [
    "def kpss_test(x, h0_type='c'):\n",
    "    indices = ['Test Statistic', 'p-value', '# of Lags']\n",
    "    kpss_test = kpss(x, regression=h0_type)\n",
    "    results = pd.Series(kpss_test[0:3], index=indices)\n",
    "    for key, value in kpss_test[3].items():\n",
    "        results[f'Critical Value ({key})'] = value\n",
    "        return results\n",
    "\n",
    "kpss_test(df_google['Adj Close'])"
   ]
  },
  {
   "cell_type": "markdown",
   "metadata": {},
   "source": [
    "The null hypothesis of the KPSS test is that the time series is stationary. With a pvalue of 0.01 (or test statistic greater than the selected critical value), we have\n",
    "reasons to reject the null hypothesis in favor of the alternative one, meaning that\n",
    "the series is not stationary"
   ]
  },
  {
   "cell_type": "code",
   "execution_count": null,
   "metadata": {},
   "outputs": [],
   "source": []
  }
 ],
 "metadata": {
  "interpreter": {
   "hash": "bf57d24e6dceecc13ca8292204a38add8db564e725f2c088897b9c1c7c102427"
  },
  "kernelspec": {
   "display_name": "Python 3.9.2 ('time_series': venv)",
   "language": "python",
   "name": "python3"
  },
  "language_info": {
   "codemirror_mode": {
    "name": "ipython",
    "version": 3
   },
   "file_extension": ".py",
   "mimetype": "text/x-python",
   "name": "python",
   "nbconvert_exporter": "python",
   "pygments_lexer": "ipython3",
   "version": "3.9.2"
  },
  "orig_nbformat": 4
 },
 "nbformat": 4,
 "nbformat_minor": 2
}
